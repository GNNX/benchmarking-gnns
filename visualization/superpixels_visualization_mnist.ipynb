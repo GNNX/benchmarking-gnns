{
 "cells": [
  {
   "cell_type": "markdown",
   "metadata": {},
   "source": [
    "## Visualization of the superpixel images, graphs and edge connections"
   ]
  },
  {
   "cell_type": "markdown",
   "metadata": {},
   "source": [
    "### Superpixels from\n",
    "https://github.com/bknyaz/graph_attention_pool"
   ]
  },
  {
   "cell_type": "code",
   "execution_count": null,
   "metadata": {},
   "outputs": [],
   "source": [
    "import random\n",
    "from torchvision import transforms, datasets\n",
    "\n",
    "import os\n",
    "import pickle\n",
    "from scipy.spatial.distance import cdist\n",
    "from scipy import ndimage\n",
    "import numpy as np\n",
    "\n",
    "import dgl\n",
    "import torch\n",
    "import time\n",
    "import networkx as nx\n",
    "import matplotlib.pyplot as plt\n",
    "import matplotlib"
   ]
  },
  {
   "cell_type": "code",
   "execution_count": null,
   "metadata": {},
   "outputs": [],
   "source": [
    "import os\n",
    "os.chdir('../') # go to root folder of the project\n",
    "print(os.getcwd())"
   ]
  },
  {
   "cell_type": "markdown",
   "metadata": {},
   "source": [
    "### Functions definition for graph construction"
   ]
  },
  {
   "cell_type": "code",
   "execution_count": null,
   "metadata": {},
   "outputs": [],
   "source": [
    "def sigma(dists, kth=8):\n",
    "    # Get k-nearest neighbors for each node\n",
    "    knns = np.partition(dists, kth, axis=-1)[:, kth::-1]\n",
    "\n",
    "    # Compute sigma and reshape\n",
    "    sigma = knns.sum(axis=1).reshape((knns.shape[0], 1))/kth\n",
    "    return sigma + 1e-8 # adding epsilon to avoid zero value of sigma\n",
    "\n",
    "def compute_adjacency_matrix_images(coord, feat, use_feat=False, kth=8):\n",
    "    coord = coord.reshape(-1, 2)\n",
    "    # Compute coordinate distance\n",
    "    c_dist = cdist(coord, coord)\n",
    "    \n",
    "    if use_feat:\n",
    "        # Compute feature distance\n",
    "        f_dist = cdist(feat, feat)\n",
    "        # Compute adjacency\n",
    "        A = np.exp(- (c_dist/sigma(c_dist))**2 - (f_dist/sigma(f_dist))**2 )\n",
    "    else:\n",
    "        A = np.exp(- (c_dist/sigma(c_dist))**2)\n",
    "        \n",
    "    # Convert to symmetric matrix\n",
    "    A = 0.5 * (A + A.T)\n",
    "    #A = 0.5 * A * A.T\n",
    "    A[np.diag_indices_from(A)] = 0\n",
    "    return A\n",
    "\n",
    "def compute_edges_list(A, kth=8+1):\n",
    "    # Get k-similar neighbor indices for each node\n",
    "    if 1==1:   \n",
    "        num_nodes = A.shape[0]\n",
    "        new_kth = num_nodes - kth\n",
    "        knns = np.argpartition(A, new_kth-1, axis=-1)[:, new_kth:-1]\n",
    "        knns_d = np.partition(A, new_kth-1, axis=-1)[:, new_kth:-1]\n",
    "    else:\n",
    "        knns = np.argpartition(A, kth, axis=-1)[:, kth::-1]\n",
    "        knns_d = np.partition(A, kth, axis=-1)[:, kth::-1]\n",
    "    return knns, knns_d"
   ]
  },
  {
   "cell_type": "markdown",
   "metadata": {},
   "source": [
    "### MNISTSuperPix class for reading superpixels file and constructing graph"
   ]
  },
  {
   "cell_type": "code",
   "execution_count": null,
   "metadata": {},
   "outputs": [],
   "source": [
    "class MNISTSuperPix(torch.utils.data.Dataset):\n",
    "    def __init__(self,\n",
    "                 data_dir,\n",
    "                 split,\n",
    "                 use_mean_px=True,\n",
    "                 use_coord=True,\n",
    "                 use_feat_for_graph_construct=False,):\n",
    "\n",
    "        self.split = split\n",
    "        self.is_test = split.lower() in ['test', 'val']\n",
    "        with open(os.path.join(data_dir, 'mnist_75sp_%s.pkl' % split), 'rb') as f:\n",
    "            self.labels, self.sp_data = pickle.load(f)\n",
    "\n",
    "        self.use_mean_px = use_mean_px\n",
    "        self.use_feat_for_graph = use_feat_for_graph_construct\n",
    "        self.use_coord = use_coord\n",
    "        self.n_samples = len(self.labels)\n",
    "        self.img_size = 28\n",
    "\n",
    "    def precompute_graph_images(self):\n",
    "        print('precompute all data for the %s set...' % self.split.upper())\n",
    "        self.Adj_matrices, self.node_features, self.edges_lists = [], [], []\n",
    "        for index, sample in enumerate(self.sp_data):\n",
    "            mean_px, coord = sample[:2]\n",
    "            coord = coord / self.img_size\n",
    "            A = compute_adjacency_matrix_images(coord, mean_px, use_feat=self.use_feat_for_graph)\n",
    "            edges_list, _ = compute_edges_list(A)\n",
    "            N_nodes = A.shape[0]\n",
    "            \n",
    "            x = None\n",
    "            if self.use_mean_px:\n",
    "                x = mean_px.reshape(N_nodes, -1)\n",
    "            if self.use_coord:\n",
    "                coord = coord.reshape(N_nodes, 2)\n",
    "                if self.use_mean_px:\n",
    "                    x = np.concatenate((x, coord), axis=1)\n",
    "                else:\n",
    "                    x = coord\n",
    "            if x is None:\n",
    "                x = np.ones(N_nodes, 1)  # dummy features\n",
    "            \n",
    "            self.node_features.append(x)\n",
    "            self.Adj_matrices.append(A)\n",
    "            self.edges_lists.append(edges_list)\n",
    "\n",
    "    def __len__(self):\n",
    "        return self.n_samples\n",
    "\n",
    "    def __getitem__(self, index):\n",
    "        g = dgl.DGLGraph()\n",
    "        g.add_nodes(self.node_features[index].shape[0])\n",
    "        g.ndata['feat'] = torch.Tensor(self.node_features[index])\n",
    "        for src, dsts in enumerate(self.edges_lists[index]):\n",
    "            g.add_edges(src, dsts[dsts!=src])\n",
    "\n",
    "        return g, self.labels[index]"
   ]
  },
  {
   "cell_type": "markdown",
   "metadata": {},
   "source": [
    "### Taking only coordinates for knn graph construction\n",
    "This is done by setting `use_feat_for_graph_construct = False`.   \n",
    "If you want to also consider the mean feature intensity of superpixels for the constructing the knn graphs, set `use_feat_for_graph_construct = True`"
   ]
  },
  {
   "cell_type": "code",
   "execution_count": null,
   "metadata": {},
   "outputs": [],
   "source": [
    "# Taking the test dataset only for sample visualization\n",
    "use_feat_for_graph_construct = False\n",
    "tt = time.time()\n",
    "data_no_feat_knn = MNISTSuperPix(\"data/superpixels\", \n",
    "                             #split='test', \n",
    "                             split='train', \n",
    "                             use_feat_for_graph_construct=use_feat_for_graph_construct)\n",
    "\n",
    "data_no_feat_knn.precompute_graph_images()\n",
    "print(\"Time taken: {:.4f}s\".format(time.time()-tt))"
   ]
  },
  {
   "cell_type": "markdown",
   "metadata": {},
   "source": [
    "### Taking coordinates and features for knn graph construction"
   ]
  },
  {
   "cell_type": "code",
   "execution_count": null,
   "metadata": {},
   "outputs": [],
   "source": [
    "use_feat_for_graph_construct = True\n",
    "tt = time.time()\n",
    "data_with_feat_knn = MNISTSuperPix(\"data/superpixels\", \n",
    "                             #split='test', \n",
    "                             split='train', \n",
    "                             use_feat_for_graph_construct=use_feat_for_graph_construct)\n",
    "\n",
    "data_with_feat_knn.precompute_graph_images()\n",
    "print(\"Time taken: {:.4f}s\".format(time.time()-tt))"
   ]
  },
  {
   "cell_type": "markdown",
   "metadata": {},
   "source": [
    "### Prepare MNIST Images"
   ]
  },
  {
   "cell_type": "code",
   "execution_count": null,
   "metadata": {},
   "outputs": [],
   "source": [
    "#dataset = datasets.MNIST(root='PATH', train=False, download=True, transform=transforms.ToTensor())\n",
    "dataset = datasets.MNIST(root='PATH', train=True, download=True, transform=transforms.ToTensor())\n",
    "\n",
    "x, _ = dataset[777] # x is now a torch.Tensor\n",
    "plt.imshow(x.numpy()[0], cmap='gray')"
   ]
  },
  {
   "cell_type": "markdown",
   "metadata": {},
   "source": [
    "### Drawing a dgl graph using networkx"
   ]
  },
  {
   "cell_type": "code",
   "execution_count": null,
   "metadata": {},
   "outputs": [],
   "source": [
    "sample = np.random.choice(len(data_no_feat_knn))\n",
    "g_sample = data_no_feat_knn[sample][0]\n",
    "print(\"Label: \", data_no_feat_knn[sample][1])\n",
    "nx.draw(g_sample.to_networkx(), with_labels=True)\n",
    "plt.show()"
   ]
  },
  {
   "cell_type": "markdown",
   "metadata": {},
   "source": [
    "### Superpixels plot function definition"
   ]
  },
  {
   "cell_type": "code",
   "execution_count": null,
   "metadata": {},
   "outputs": [],
   "source": [
    "from scipy.spatial.distance import pdist, squareform\n",
    "from pylab import rcParams\n",
    "\n",
    "def plot_superpixels_graph(plt, sp_data, adj_matrix, label, feat_coord, with_edges):\n",
    "    Y = squareform(pdist(sp_data[1], 'euclidean'))\n",
    "    x_coord = sp_data[1] #np.flip(dataset.train.sp_data[_][1], 1)\n",
    "    intensities = sp_data[0].reshape(-1)\n",
    "\n",
    "    G = nx.from_numpy_matrix(Y)\n",
    "    pos = dict(zip(range(len(x_coord)), x_coord.tolist()))\n",
    "    rotated_pos = {node: (y,-x) for (node, (x,y)) in pos.items()} # rotate the coords by 90 degree\n",
    "    \n",
    "    edge_list = []\n",
    "    for src, dsts in enumerate(compute_edges_list(adj_matrix)[0]):\n",
    "        for dst in dsts:\n",
    "            edge_list.append((src, dst))\n",
    "\n",
    "    nx.draw_networkx_nodes(G, rotated_pos, node_color=intensities, cmap=matplotlib.cm.Reds, node_size=60) #len(intensities))\n",
    "    if with_edges:\n",
    "        nx.draw_networkx_edges(G, rotated_pos, edge_list, alpha=0.3)\n",
    "    title = \"Label: \" + str(label)\n",
    "    if feat_coord:\n",
    "        title += \" | Using feat and coord for knn\"\n",
    "    else:\n",
    "        title += \" | Using only coord for knn\"\n",
    "    if not with_edges:\n",
    "        title = \"Label: \" + str(label) + \" | Only superpixel nodes\"\n",
    "    \n",
    "    plt.title.set_text(title)\n",
    "    \n",
    "def show_image(plt, idx, alpha):\n",
    "    x, label = dataset[idx] # x is now a torch.Tensor\n",
    "    img = x.numpy()[0]\n",
    "    \n",
    "    plt.imshow(img, cmap='gray')\n",
    "    plt.axis('off')\n",
    "    plt.title.set_text(\"Label: \" + str(label) + \" | Original Image\")"
   ]
  },
  {
   "cell_type": "markdown",
   "metadata": {},
   "source": [
    "### Plotting sample superpixels, and graphs"
   ]
  },
  {
   "cell_type": "code",
   "execution_count": null,
   "metadata": {},
   "outputs": [],
   "source": [
    "num_samples_plot = 3\n",
    "for f_idx, idx in enumerate(np.random.choice(int(len(data_no_feat_knn)/2), num_samples_plot, replace=False)):\n",
    "    f = plt.figure(f_idx, figsize=(23, 5))\n",
    "    plt1 = f.add_subplot(141)\n",
    "    show_image(plt1, idx, alpha=0.5)\n",
    "\n",
    "    plt2 = f.add_subplot(142)  \n",
    "    plot_superpixels_graph(plt2, data_no_feat_knn.sp_data[idx],\n",
    "                           data_no_feat_knn.Adj_matrices[idx],\n",
    "                           data_no_feat_knn[idx][1],\n",
    "                           data_no_feat_knn.use_feat_for_graph,\n",
    "                           with_edges=False)\n",
    "\n",
    "    plt3 = f.add_subplot(143)\n",
    "    plot_superpixels_graph(plt3, data_no_feat_knn.sp_data[idx],\n",
    "                           data_no_feat_knn.Adj_matrices[idx],\n",
    "                           data_no_feat_knn[idx][1],\n",
    "                           data_no_feat_knn.use_feat_for_graph,\n",
    "                           with_edges=True)\n",
    "\n",
    "    plt4 = f.add_subplot(144)\n",
    "    plot_superpixels_graph(plt4, data_with_feat_knn.sp_data[idx],\n",
    "                           data_with_feat_knn.Adj_matrices[idx],\n",
    "                           data_with_feat_knn[idx][1],\n",
    "                           data_with_feat_knn.use_feat_for_graph,\n",
    "                           with_edges=True)\n",
    "\n",
    "    plt.subplots_adjust(hspace=0.1, wspace=0.1)\n",
    "    f.savefig('visualization/mnist_superpix_'+str(idx)+'.jpg')\n",
    "    plt.show()"
   ]
  },
  {
   "cell_type": "markdown",
   "metadata": {},
   "source": [
    "### Get k-nearest neighbor distances for first 10 (denoted by [:10]) nodes for first graph (denoted by [0])"
   ]
  },
  {
   "cell_type": "code",
   "execution_count": null,
   "metadata": {},
   "outputs": [],
   "source": [
    "print(compute_edges_list(data_no_feat_knn.Adj_matrices[0])[1][:10])"
   ]
  },
  {
   "cell_type": "code",
   "execution_count": null,
   "metadata": {},
   "outputs": [],
   "source": [
    "print(compute_edges_list(data_with_feat_knn.Adj_matrices[0])[1][:10])"
   ]
  },
  {
   "cell_type": "code",
   "execution_count": null,
   "metadata": {},
   "outputs": [],
   "source": []
  },
  {
   "cell_type": "code",
   "execution_count": null,
   "metadata": {},
   "outputs": [],
   "source": []
  },
  {
   "cell_type": "code",
   "execution_count": null,
   "metadata": {},
   "outputs": [],
   "source": []
  },
  {
   "cell_type": "code",
   "execution_count": null,
   "metadata": {},
   "outputs": [],
   "source": []
  },
  {
   "cell_type": "code",
   "execution_count": null,
   "metadata": {},
   "outputs": [],
   "source": []
  },
  {
   "cell_type": "code",
   "execution_count": null,
   "metadata": {},
   "outputs": [],
   "source": []
  },
  {
   "cell_type": "code",
   "execution_count": null,
   "metadata": {},
   "outputs": [],
   "source": []
  },
  {
   "cell_type": "code",
   "execution_count": null,
   "metadata": {},
   "outputs": [],
   "source": []
  },
  {
   "cell_type": "code",
   "execution_count": null,
   "metadata": {},
   "outputs": [],
   "source": []
  },
  {
   "cell_type": "code",
   "execution_count": null,
   "metadata": {},
   "outputs": [],
   "source": []
  }
 ],
 "metadata": {
  "kernelspec": {
   "display_name": "Python 3",
   "language": "python",
   "name": "python3"
  },
  "language_info": {
   "codemirror_mode": {
    "name": "ipython",
    "version": 3
   },
   "file_extension": ".py",
   "mimetype": "text/x-python",
   "name": "python",
   "nbconvert_exporter": "python",
   "pygments_lexer": "ipython3",
   "version": "3.7.4"
  }
 },
 "nbformat": 4,
 "nbformat_minor": 4
}
